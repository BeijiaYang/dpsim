{
 "cells": [
  {
   "cell_type": "markdown",
   "metadata": {},
   "source": [
    "# Circuit VS_CS_R4"
   ]
  },
  {
   "cell_type": "code",
   "execution_count": null,
   "metadata": {},
   "outputs": [],
   "source": [
    "import villas.dataprocessing.readtools as rt\n",
    "import villas.dataprocessing.plottools as pt\n",
    "from villas.dataprocessing.timeseries import TimeSeries as ts"
   ]
  },
  {
   "cell_type": "markdown",
   "metadata": {},
   "source": [
    "## The circuit model shows in below."
   ]
  },
  {
   "attachments": {
    "2a6941a9-b1c4-42f4-a722-a10fa5a10284.png": {
     "image/png": "[encoded data removed]"
    }
   },
   "cell_type": "markdown",
   "metadata": {},
   "source": [
    "![vscs_R4.drawio.png](attachment:2a6941a9-b1c4-42f4-a722-a10fa5a10284.png)"
   ]
  },
  {
   "cell_type": "markdown",
   "metadata": {},
   "source": [
    "## DPsim EMT"
   ]
  },
  {
   "cell_type": "code",
   "execution_count": null,
   "metadata": {},
   "outputs": [],
   "source": [
    "# DPsim EMT simulation\n",
    "import dpsimpy\n",
    "\n",
    "name = 'EMT_VS_CS_R4_AC'\n",
    "\n",
    "# Nodes\n",
    "gnd = dpsimpy.emt.SimNode.gnd\n",
    "n1 = dpsimpy.emt.SimNode('n1')\n",
    "n2 = dpsimpy.emt.SimNode('n2')\n",
    "n3 = dpsimpy.emt.SimNode('n3')\n",
    "\n",
    "# Components\n",
    "vs = dpsimpy.emt.ph1.VoltageSource('vs')\n",
    "vs.set_parameters(V_ref=complex(10, 0), f_src=50)\n",
    "r1 = dpsimpy.emt.ph1.Resistor('r1')\n",
    "r1.set_parameters(R=1)\n",
    "r2 = dpsimpy.emt.ph1.Resistor('r2')\n",
    "r2.set_parameters(R=1)\n",
    "r3 = dpsimpy.emt.ph1.Resistor('r3')\n",
    "r3.set_parameters(R=10)\n",
    "r4 = dpsimpy.emt.ph1.Resistor('r4')\n",
    "r4.set_parameters(R=5)\n",
    "cs = dpsimpy.emt.ph1.CurrentSource('cs')\n",
    "cs.set_parameters(I_ref=complex(1,0), f_src=50)\n",
    "\n",
    "vs.connect([gnd, n1])\n",
    "r1.connect([n1, n2])\n",
    "r2.connect([n2, gnd])\n",
    "r3.connect([n2, n3])\n",
    "r4.connect([n3, gnd])\n",
    "cs.connect([gnd, n3])\n",
    "\n",
    "system = dpsimpy.SystemTopology(50, [gnd, n1, n2, n3], [vs, r1, r2, r3, r4, cs])\n",
    "\n",
    "logger = dpsimpy.Logger(name)\n",
    "logger.log_attribute('n1.v', 'v', n1);\n",
    "logger.log_attribute('n2.v', 'v', n2);\n",
    "logger.log_attribute('n3.v', 'v', n3);\n",
    "logger.log_attribute('r1.i_intf', 'i_intf', r1);\n",
    "logger.log_attribute('r3.i_intf', 'i_intf', r3);\n",
    "\n",
    "sim = dpsimpy.Simulation(name)\n",
    "sim.set_domain(dpsimpy.Domain.EMT)\n",
    "sim.set_system(system)\n",
    "sim.set_time_step(0.0001)\n",
    "sim.set_final_time(0.1)\n",
    "sim.add_logger(logger)\n",
    "\n",
    "sim.run()"
   ]
  },
  {
   "cell_type": "code",
   "execution_count": null,
   "metadata": {},
   "outputs": [],
   "source": [
    "# read EMT results\n",
    "work_dir = 'logs/'\n",
    "log_name = 'EMT_VS_CS_R4_AC'\n",
    "print(work_dir + log_name + '.csv')\n",
    "\n",
    "ts_dpsim_emt = rt.read_timeseries_dpsim(work_dir + log_name + '.csv')"
   ]
  },
  {
   "cell_type": "code",
   "execution_count": null,
   "metadata": {},
   "outputs": [],
   "source": [
    "ts_dpsim_emt['n1.v'].label = 'v1 EMT'\n",
    "ts_dpsim_emt['n2.v'].label = 'v2 EMT'\n",
    "ts_dpsim_emt['n3.v'].label = 'v3 EMT'\n",
    "ts_dpsim_emt['r1.i_intf'].label = 'i12 EMT'\n",
    "ts_dpsim_emt['r3.i_intf'].label = 'i23 EMT'\n",
    "pt.plot_timeseries(1, ts_dpsim_emt['n1.v'])\n",
    "pt.plot_timeseries(1, ts_dpsim_emt['n2.v'])\n",
    "pt.plot_timeseries(1, ts_dpsim_emt['n3.v'])\n",
    "pt.plot_timeseries(2, ts_dpsim_emt['r1.i_intf'])\n",
    "pt.plot_timeseries(2, ts_dpsim_emt['r3.i_intf'])"
   ]
  },
  {
   "cell_type": "markdown",
   "metadata": {},
   "source": [
    "## DPsim DP"
   ]
  },
  {
   "cell_type": "code",
   "execution_count": null,
   "metadata": {},
   "outputs": [],
   "source": [
    "# DPsim DP simulation\n",
    "import dpsimpy\n",
    "\n",
    "name = 'DP_VS_CS_R4_AC'\n",
    "\n",
    "# Nodes\n",
    "gnd = dpsimpy.dp.SimNode.gnd\n",
    "n1 = dpsimpy.dp.SimNode('n1')\n",
    "n2 = dpsimpy.dp.SimNode('n2')\n",
    "n3 = dpsimpy.dp.SimNode('n3')\n",
    "\n",
    "# Components\n",
    "vs = dpsimpy.dp.ph1.VoltageSource('vs')\n",
    "vs.set_parameters(V_ref=complex(10, 0))\n",
    "r1 = dpsimpy.dp.ph1.Resistor('r1')\n",
    "r1.set_parameters(R=1)\n",
    "r2 = dpsimpy.dp.ph1.Resistor('r2')\n",
    "r2.set_parameters(R=1)\n",
    "r3 = dpsimpy.dp.ph1.Resistor('r3')\n",
    "r3.set_parameters(R=10)\n",
    "r4 = dpsimpy.dp.ph1.Resistor('r4')\n",
    "r4.set_parameters(R=5)\n",
    "cs = dpsimpy.dp.ph1.CurrentSource('cs')\n",
    "cs.set_parameters(I_ref=complex(1,0))\n",
    "\n",
    "vs.connect([gnd, n1])\n",
    "r1.connect([n1, n2])\n",
    "r2.connect([n2, gnd])\n",
    "r3.connect([n2, n3])\n",
    "r4.connect([n3, gnd])\n",
    "cs.connect([gnd, n3])\n",
    "\n",
    "system = dpsimpy.SystemTopology(50, [gnd, n1, n2, n3], [vs, r1, r2, r3, r4, cs])\n",
    "\n",
    "logger = dpsimpy.Logger(name)\n",
    "logger.log_attribute('n1.v', 'v', n1);\n",
    "logger.log_attribute('n2.v', 'v', n2);\n",
    "logger.log_attribute('n3.v', 'v', n3);\n",
    "logger.log_attribute('r1.i_intf', 'i_intf', r1);\n",
    "logger.log_attribute('r3.i_intf', 'i_intf', r3);\n",
    "\n",
    "sim = dpsimpy.Simulation(name)\n",
    "sim.set_domain(dpsimpy.Domain.DP)\n",
    "sim.set_system(system)\n",
    "sim.set_time_step(0.0001)\n",
    "sim.set_final_time(0.1)\n",
    "sim.add_logger(logger)\n",
    "\n",
    "sim.run()"
   ]
  },
  {
   "cell_type": "code",
   "execution_count": null,
   "metadata": {},
   "outputs": [],
   "source": [
    "# read DP results\n",
    "work_dir = 'logs/'\n",
    "log_name = 'DP_VS_CS_R4_AC'\n",
    "print(work_dir + log_name + '.csv')\n",
    "\n",
    "ts_dpsim_dp = rt.read_timeseries_dpsim(work_dir + log_name + '.csv')"
   ]
  },
  {
   "cell_type": "code",
   "execution_count": null,
   "metadata": {},
   "outputs": [],
   "source": [
    "#convert to emt\n",
    "ts_dpsim_dp_emt = ts.frequency_shift_list(ts_dpsim_dp, 50)"
   ]
  },
  {
   "cell_type": "code",
   "execution_count": null,
   "metadata": {},
   "outputs": [],
   "source": [
    "ts_dpsim_dp_emt['n1.v_shift'].label = 'v1 DP'\n",
    "ts_dpsim_dp_emt['n2.v_shift'].label = 'v2 DP'\n",
    "ts_dpsim_dp_emt['n3.v_shift'].label = 'v3 DP'\n",
    "ts_dpsim_dp_emt['r1.i_intf_shift'].label = 'i12 DP'\n",
    "ts_dpsim_dp_emt['r3.i_intf_shift'].label = 'i23 DP'\n",
    "pt.plot_timeseries(1, ts_dpsim_dp_emt['n1.v_shift'])\n",
    "pt.plot_timeseries(1, ts_dpsim_dp_emt['n2.v_shift'])\n",
    "pt.plot_timeseries(1, ts_dpsim_dp_emt['n3.v_shift'])\n",
    "pt.plot_timeseries(2, ts_dpsim_dp_emt['r1.i_intf_shift'])\n",
    "pt.plot_timeseries(2, ts_dpsim_dp_emt['r3.i_intf_shift'])"
   ]
  },
  {
   "cell_type": "markdown",
   "metadata": {},
   "source": [
    "## Simulink reference results"
   ]
  },
  {
   "cell_type": "code",
   "execution_count": null,
   "metadata": {},
   "outputs": [],
   "source": [
    "# read Simulink log file\n",
    "import os\n",
    "import urllib.request\n",
    "\n",
    "if not os.path.exists('reference-results'):\n",
    "    os.mkdir('reference-results')\n",
    "\n",
    "url = 'https://git.rwth-aachen.de/acs/public/simulation/reference-results/raw/master/Simulink/Circuits/SL_VS_CS_R4.csv'\n",
    "local_file = 'reference-results/SL_VS_CS_R4.csv'\n",
    "urllib.request.urlretrieve(url, local_file) \n",
    "\n",
    "ts_sl = rt.read_timeseries_simulink(local_file)"
   ]
  },
  {
   "cell_type": "code",
   "execution_count": null,
   "metadata": {},
   "outputs": [],
   "source": [
    "pt.set_timeseries_labels(ts_sl['v1'], 'v1 SL')\n",
    "pt.set_timeseries_labels(ts_sl['v2'], 'v2 SL')\n",
    "pt.set_timeseries_labels(ts_sl['v3'], 'v3 SL')\n",
    "pt.set_timeseries_labels(ts_sl['i12'], 'i12 SL')\n",
    "pt.set_timeseries_labels(ts_sl['i23'], 'i23 SL')\n",
    "pt.plot_timeseries(1, ts_sl['v1'])\n",
    "pt.plot_timeseries(1, ts_sl['v2'])\n",
    "pt.plot_timeseries(1, ts_sl['v3'])\n",
    "pt.plot_timeseries(2, ts_sl['i12'])\n",
    "pt.plot_timeseries(2, ts_sl['i23'])"
   ]
  },
  {
   "cell_type": "markdown",
   "metadata": {},
   "source": [
    "## Comparison"
   ]
  },
  {
   "cell_type": "code",
   "execution_count": null,
   "metadata": {},
   "outputs": [],
   "source": [
    "# plot v1\n",
    "pt.plot_timeseries(1, ts_dpsim_emt['n1.v'])\n",
    "pt.plot_timeseries(1, ts_dpsim_dp_emt['n1.v_shift'])\n",
    "pt.plot_timeseries(1, ts_sl['v1'])\n",
    "# plot v2\n",
    "pt.plot_timeseries(2, ts_dpsim_emt['n2.v'])\n",
    "pt.plot_timeseries(2, ts_dpsim_dp_emt['n2.v_shift'])\n",
    "pt.plot_timeseries(2, ts_sl['v2'])\n",
    "# plot v3\n",
    "pt.plot_timeseries(3, ts_dpsim_emt['n1.v'])\n",
    "pt.plot_timeseries(3, ts_dpsim_dp_emt['n1.v_shift'])\n",
    "pt.plot_timeseries(3, ts_sl['v3'])\n",
    "# plot i12\n",
    "pt.plot_timeseries(4, ts_dpsim_emt['r1.i_intf'])\n",
    "pt.plot_timeseries(4, ts_dpsim_dp_emt['r1.i_intf_shift'])\n",
    "ts_sl_scale =  ts_sl['i12'].scale(-1)\n",
    "ts_sl_scale.label = '-i12 SL'\n",
    "pt.plot_timeseries(4, ts_sl_scale)\n",
    "# plot i34\n",
    "pt.plot_timeseries(5, ts_dpsim_emt['r3.i_intf'])\n",
    "pt.plot_timeseries(5, ts_dpsim_dp_emt['r3.i_intf_shift'])\n",
    "pt.plot_timeseries(5, ts_sl['i23'])"
   ]
  },
  {
   "cell_type": "code",
   "execution_count": null,
   "metadata": {},
   "outputs": [],
   "source": [
    "# calculate the RMSE between Simulink (ts_sl) and EMT (ts_dpsim_emt)\n",
    "err_sl_emt = 0\n",
    "err_sl_emt += ts.rmse(ts_sl['v1'], ts_dpsim_emt['n1.v'])\n",
    "err_sl_emt += ts.rmse(ts_sl['v2'], ts_dpsim_emt['n2.v'])\n",
    "err_sl_emt += ts.rmse(ts_sl['v3'], ts_dpsim_emt['n3.v'])\n",
    "err_sl_emt = err_sl_emt / 3\n",
    "print(\"Total RMSE of Simulink reference and DPsim EMT: %g\" % (err_sl_emt))\n",
    "\n",
    "# calculate the RMSE between Simulink (ts_sl) and DP (ts_dpsim_dp_emt)\n",
    "err_sl_dp = 0\n",
    "err_sl_dp += ts.rmse(ts_sl['v1'], ts_dpsim_dp_emt['n1.v_shift'])\n",
    "err_sl_dp += ts.rmse(ts_sl['v2'], ts_dpsim_dp_emt['n2.v_shift'])\n",
    "err_sl_dp += ts.rmse(ts_sl['v3'], ts_dpsim_dp_emt['n3.v_shift'])\n",
    "err_sl_dp = err_sl_dp / 3\n",
    "print(\"Total RMSE of Simulink reference and DPsim DP: %g\" % (err_sl_dp))"
   ]
  },
  {
   "cell_type": "code",
   "execution_count": null,
   "metadata": {},
   "outputs": [],
   "source": [
    "assert err_sl_emt < 0.1\n",
    "assert err_sl_dp < 0.1"
   ]
  },
  {
   "cell_type": "code",
   "execution_count": null,
   "metadata": {},
   "outputs": [],
   "source": []
  }
 ],
 "metadata": {
  "kernelspec": {
   "display_name": "Python 3 (ipykernel)",
   "language": "python",
   "name": "python3"
  },
  "language_info": {
   "codemirror_mode": {
    "name": "ipython",
    "version": 3
   },
   "file_extension": ".py",
   "mimetype": "text/x-python",
   "name": "python",
   "nbconvert_exporter": "python",
   "pygments_lexer": "ipython3",
   "version": "3.9.10"
  },
  "widgets": {
   "application/vnd.jupyter.widget-state+json": {
    "state": {
     "02b0ad5c35c24c4d8425a82b29c87d6d": {
      "model_module": "@jupyter-widgets/controls",
      "model_module_version": "1.4.0",
      "model_name": "DescriptionStyleModel",
      "state": {
       "description_width": ""
      }
     },
     "05b55a5a9efd46dc9b4e6673b6e0c2a0": {
      "model_module": "@jupyter-widgets/base",
      "model_module_version": "1.1.0",
      "model_name": "LayoutModel",
      "state": {}
     },
     "15d21aea5723494189734fe07a6d0be5": {
      "model_module": "@jupyter-widgets/controls",
      "model_module_version": "1.4.0",
      "model_name": "ProgressStyleModel",
      "state": {
       "description_width": ""
      }
     },
     "1ce01e4cf2c44767ac1ee06dd1b26ba4": {
      "model_module": "@jupyter-widgets/controls",
      "model_module_version": "1.4.0",
      "model_name": "HTMLModel",
      "state": {
       "layout": "IPY_MODEL_d3d196d66ea64442956b5ef3d1b1929e",
       "style": "IPY_MODEL_e8282842f42047cb9b2c79dcf1845440",
       "value": "Simulation is finished: <pre>    1000/1000 steps, progress=100% time=0.10, elapsed=0.63, rtfactor=0.16</pre>"
      }
     },
     "29c162ea38a34ede9c2032a59fbb75ae": {
      "model_module": "@jupyter-widgets/controls",
      "model_module_version": "1.4.0",
      "model_name": "FloatProgressModel",
      "state": {
       "layout": "IPY_MODEL_2c468fa4fa75433084d37f290d6922f4",
       "max": 0.1,
       "style": "IPY_MODEL_a3984942bdc2454fb27102636cf89331",
       "value": 0.1
      }
     },
     "2c468fa4fa75433084d37f290d6922f4": {
      "model_module": "@jupyter-widgets/base",
      "model_module_version": "1.1.0",
      "model_name": "LayoutModel",
      "state": {}
     },
     "304b73cfa0a94f6190d893dd0b5f08e7": {
      "model_module": "@jupyter-widgets/base",
      "model_module_version": "1.1.0",
      "model_name": "LayoutModel",
      "state": {}
     },
     "39595364d2544a81a3898ce663230a44": {
      "model_module": "@jupyter-widgets/controls",
      "model_module_version": "1.4.0",
      "model_name": "HTMLModel",
      "state": {
       "layout": "IPY_MODEL_304b73cfa0a94f6190d893dd0b5f08e7",
       "style": "IPY_MODEL_d71f15c42bc94126a14af89683072572",
       "value": "Simulation is finished: <pre>    1000/1000 steps, progress=100% time=0.10, elapsed=0.20, rtfactor=0.49</pre>"
      }
     },
     "39e1b18696704d3095bf5fc28133a86d": {
      "model_module": "@jupyter-widgets/controls",
      "model_module_version": "1.4.0",
      "model_name": "DescriptionStyleModel",
      "state": {
       "description_width": ""
      }
     },
     "3fb996a151c44b02bd4c07c504f1df88": {
      "model_module": "@jupyter-widgets/controls",
      "model_module_version": "1.4.0",
      "model_name": "HTMLModel",
      "state": {
       "layout": "IPY_MODEL_7acd20ddb94143ca8f2e6904580a2782",
       "style": "IPY_MODEL_02b0ad5c35c24c4d8425a82b29c87d6d",
       "value": "Simulation is finished: <pre>    1000/1000 steps, progress=100% time=0.10, elapsed=0.20, rtfactor=0.49</pre>"
      }
     },
     "4a86944ec80641b19d99cad88cf71c1a": {
      "model_module": "@jupyter-widgets/controls",
      "model_module_version": "1.4.0",
      "model_name": "FloatProgressModel",
      "state": {
       "layout": "IPY_MODEL_cd9adae1bfe24a74a11899e1cefc05b3",
       "max": 0.1,
       "style": "IPY_MODEL_b4bc0beef12a475bac20652145dab619",
       "value": 0.1
      }
     },
     "506655aad6b24b3baaebcdf591b79ec1": {
      "model_module": "@jupyter-widgets/controls",
      "model_module_version": "1.4.0",
      "model_name": "FloatProgressModel",
      "state": {
       "layout": "IPY_MODEL_05b55a5a9efd46dc9b4e6673b6e0c2a0",
       "max": 0.1,
       "style": "IPY_MODEL_15d21aea5723494189734fe07a6d0be5",
       "value": 0.1
      }
     },
     "7acd20ddb94143ca8f2e6904580a2782": {
      "model_module": "@jupyter-widgets/base",
      "model_module_version": "1.1.0",
      "model_name": "LayoutModel",
      "state": {}
     },
     "859bd697fa61423d8a1f41dfef6aff1e": {
      "model_module": "@jupyter-widgets/controls",
      "model_module_version": "1.4.0",
      "model_name": "ProgressStyleModel",
      "state": {
       "description_width": ""
      }
     },
     "984cdacebe444428ad160c2a3113aceb": {
      "model_module": "@jupyter-widgets/controls",
      "model_module_version": "1.4.0",
      "model_name": "FloatProgressModel",
      "state": {
       "layout": "IPY_MODEL_f1f48fc7486a436694ad16298bafbb76",
       "max": 0.1,
       "style": "IPY_MODEL_859bd697fa61423d8a1f41dfef6aff1e",
       "value": 0.1
      }
     },
     "9b7060c4bd6a4b3bbb58e90c23d439a6": {
      "model_module": "@jupyter-widgets/base",
      "model_module_version": "1.1.0",
      "model_name": "LayoutModel",
      "state": {}
     },
     "a3984942bdc2454fb27102636cf89331": {
      "model_module": "@jupyter-widgets/controls",
      "model_module_version": "1.4.0",
      "model_name": "ProgressStyleModel",
      "state": {
       "description_width": ""
      }
     },
     "a7fdd7cfe99445859ebebc9510a42ee7": {
      "model_module": "@jupyter-widgets/controls",
      "model_module_version": "1.4.0",
      "model_name": "HTMLModel",
      "state": {
       "layout": "IPY_MODEL_9b7060c4bd6a4b3bbb58e90c23d439a6",
       "style": "IPY_MODEL_39e1b18696704d3095bf5fc28133a86d",
       "value": "Simulation is finished: <pre>    1000/1000 steps, progress=100% time=0.10, elapsed=2.23, rtfactor=0.04</pre>"
      }
     },
     "b4bc0beef12a475bac20652145dab619": {
      "model_module": "@jupyter-widgets/controls",
      "model_module_version": "1.4.0",
      "model_name": "ProgressStyleModel",
      "state": {
       "description_width": ""
      }
     },
     "cd9adae1bfe24a74a11899e1cefc05b3": {
      "model_module": "@jupyter-widgets/base",
      "model_module_version": "1.1.0",
      "model_name": "LayoutModel",
      "state": {}
     },
     "d3d196d66ea64442956b5ef3d1b1929e": {
      "model_module": "@jupyter-widgets/base",
      "model_module_version": "1.1.0",
      "model_name": "LayoutModel",
      "state": {}
     },
     "d71f15c42bc94126a14af89683072572": {
      "model_module": "@jupyter-widgets/controls",
      "model_module_version": "1.4.0",
      "model_name": "DescriptionStyleModel",
      "state": {
       "description_width": ""
      }
     },
     "e8282842f42047cb9b2c79dcf1845440": {
      "model_module": "@jupyter-widgets/controls",
      "model_module_version": "1.4.0",
      "model_name": "DescriptionStyleModel",
      "state": {
       "description_width": ""
      }
     },
     "f1f48fc7486a436694ad16298bafbb76": {
      "model_module": "@jupyter-widgets/base",
      "model_module_version": "1.1.0",
      "model_name": "LayoutModel",
      "state": {}
     }
    },
    "version_major": 2,
    "version_minor": 0
   }
  }
 },
 "nbformat": 4,
 "nbformat_minor": 4
}
