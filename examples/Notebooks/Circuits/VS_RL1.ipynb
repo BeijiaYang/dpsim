{
 "cells": [
  {
   "cell_type": "markdown",
   "metadata": {},
   "source": [
    "# Circuit VS_RL1"
   ]
  },
  {
   "cell_type": "code",
   "execution_count": null,
   "metadata": {},
   "outputs": [],
   "source": [
    "import villas.dataprocessing.readtools as rt\n",
    "import villas.dataprocessing.plottools as pt\n",
    "from villas.dataprocessing.timeseries import TimeSeries as ts"
   ]
  },
  {
   "cell_type": "markdown",
   "metadata": {
    "tags": []
   },
   "source": [
    "## The circuit model shows in below"
   ]
  },
  {
   "attachments": {
    "1bc87d77-9b94-470f-973c-0eae0176a619.png": {
     "image/png": "[encoded data removed]"
    }
   },
   "cell_type": "markdown",
   "metadata": {},
   "source": [
    "![RL1.drawio.png](attachment:1bc87d77-9b94-470f-973c-0eae0176a619.png)"
   ]
  },
  {
   "cell_type": "markdown",
   "metadata": {},
   "source": [
    "## DPsim EMT"
   ]
  },
  {
   "cell_type": "code",
   "execution_count": null,
   "metadata": {},
   "outputs": [],
   "source": [
    "# DPsim EMT simulation\n",
    "import dpsimpy\n",
    "\n",
    "name = 'EMT_VS_RL1'\n",
    "\n",
    "# Nodes\n",
    "gnd = dpsimpy.emt.SimNode.gnd\n",
    "n1 =  dpsimpy.emt.SimNode('n1')\n",
    "n2 =  dpsimpy.emt.SimNode('n2')\n",
    "\n",
    "# Components\n",
    "vs = dpsimpy.emt.ph1.VoltageSource('vs')\n",
    "vs.set_parameters(V_ref=complex(10,0), f_src=50)\n",
    "r1 = dpsimpy.emt.ph1.Resistor('r1')\n",
    "r1.set_parameters(R=5)\n",
    "l1 = dpsimpy.emt.ph1.Inductor('l1')\n",
    "l1.set_parameters(L=0.02)\n",
    "\n",
    "vs.connect([gnd, n1])\n",
    "r1.connect([n1, n2])\n",
    "l1.connect([n2, gnd])\n",
    "\n",
    "system = dpsimpy.SystemTopology(50, [gnd, n1, n2], [vs, l1, r1])\n",
    "\n",
    "logger = dpsimpy.Logger(name)\n",
    "logger.log_attribute('n1.v', 'v', n1);\n",
    "logger.log_attribute('n2.v', 'v', n2);\n",
    "logger.log_attribute('r1.i_intf', 'i_intf', r1);\n",
    "\n",
    "sim = dpsimpy.Simulation(name)\n",
    "sim.add_logger(logger)\n",
    "sim.set_system(system)\n",
    "sim.set_domain(dpsimpy.Domain.EMT)\n",
    "sim.set_time_step(0.0001)\n",
    "sim.set_final_time(0.1)\n",
    "\n",
    "sim.run()"
   ]
  },
  {
   "cell_type": "code",
   "execution_count": null,
   "metadata": {},
   "outputs": [],
   "source": [
    "# read EMT results\n",
    "#work_dir = '../../dpsim/Logs/'\n",
    "work_dir = 'logs/'\n",
    "log_name = 'EMT_VS_RL1'\n",
    "print(work_dir + log_name + '.csv')\n",
    "\n",
    "ts_dpsim_emt = rt.read_timeseries_dpsim(work_dir + log_name + '.csv')"
   ]
  },
  {
   "cell_type": "code",
   "execution_count": null,
   "metadata": {},
   "outputs": [],
   "source": [
    "#v1 = 'v1'\n",
    "#v2 = 'v2'\n",
    "#i12 = 'i12'\n",
    "v1 = 'n1.v'\n",
    "v2 = 'n2.v'\n",
    "i12 = 'r1.i_intf'\n",
    "\n",
    "ts_dpsim_emt['n1.v'].label = 'v1 EMT'\n",
    "ts_dpsim_emt['n2.v'].label = 'v2 EMT'\n",
    "ts_dpsim_emt['r1.i_intf'].label = 'i12 EMT'\n",
    "pt.plot_timeseries(1, ts_dpsim_emt['n1.v'])\n",
    "pt.plot_timeseries(1, ts_dpsim_emt['n2.v'])\n",
    "pt.plot_timeseries(2, ts_dpsim_emt['r1.i_intf'])"
   ]
  },
  {
   "cell_type": "markdown",
   "metadata": {},
   "source": [
    "## DPsim DP"
   ]
  },
  {
   "cell_type": "code",
   "execution_count": null,
   "metadata": {},
   "outputs": [],
   "source": [
    "import dpsimpy\n",
    "\n",
    "name = 'DP_VS_RL1'\n",
    "\n",
    "# Nodes\n",
    "gnd = dpsimpy.dp.SimNode.gnd\n",
    "n1 =  dpsimpy.dp.SimNode('n1')\n",
    "n2 =  dpsimpy.dp.SimNode('n2')\n",
    "\n",
    "# Components\n",
    "vs = dpsimpy.dp.ph1.VoltageSource('vs')\n",
    "vs.set_parameters(V_ref=complex(10,0))\n",
    "r1 = dpsimpy.dp.ph1.Resistor('r1')\n",
    "r1.set_parameters(R=5)\n",
    "l1 = dpsimpy.dp.ph1.Inductor('l1')\n",
    "l1.set_parameters(L=0.02)\n",
    "\n",
    "vs.connect([gnd, n1])\n",
    "r1.connect([n1, n2])\n",
    "l1.connect([n2, gnd])\n",
    "\n",
    "system = dpsimpy.SystemTopology(50, [gnd, n1, n2], [vs, l1, r1])\n",
    "\n",
    "logger = dpsimpy.Logger(name)\n",
    "logger.log_attribute('n1.v', 'v', n1);\n",
    "logger.log_attribute('n2.v', 'v', n2);\n",
    "logger.log_attribute('r1.i_intf', 'i_intf', r1);\n",
    "\n",
    "sim = dpsimpy.Simulation(name)\n",
    "sim.add_logger(logger)\n",
    "sim.set_system(system)\n",
    "sim.set_domain(dpsimpy.Domain.DP)\n",
    "sim.set_time_step(0.0001)\n",
    "sim.set_final_time(0.1)\n",
    "\n",
    "sim.run()"
   ]
  },
  {
   "cell_type": "code",
   "execution_count": null,
   "metadata": {},
   "outputs": [],
   "source": [
    "# read DPsim DP results\n",
    "work_dir = 'logs/'\n",
    "log_name = 'DP_VS_RL1'\n",
    "print(work_dir + log_name + '.csv')\n",
    "\n",
    "ts_dpsim_dp = rt.read_timeseries_dpsim(work_dir + log_name + '.csv')"
   ]
  },
  {
   "cell_type": "code",
   "execution_count": null,
   "metadata": {},
   "outputs": [],
   "source": [
    "# convert to emt\n",
    "ts_dpsim_dp_emt = ts.frequency_shift_list(ts_dpsim_dp, 50)"
   ]
  },
  {
   "cell_type": "code",
   "execution_count": null,
   "metadata": {},
   "outputs": [],
   "source": [
    "pt.set_timeseries_labels(ts_dpsim_dp_emt['n1.v_shift'], 'v1 DP')\n",
    "pt.set_timeseries_labels(ts_dpsim_dp_emt['n2.v_shift'], 'v2 DP')\n",
    "pt.set_timeseries_labels(ts_dpsim_dp_emt['r1.i_intf_shift'], 'i12 DP')\n",
    "pt.plot_timeseries(1, ts_dpsim_dp_emt['n1.v_shift'])\n",
    "pt.plot_timeseries(1, ts_dpsim_dp_emt['n2.v_shift'])\n",
    "pt.plot_timeseries(2, ts_dpsim_dp_emt['r1.i_intf_shift'])"
   ]
  },
  {
   "cell_type": "markdown",
   "metadata": {},
   "source": [
    "## Simulink reference results"
   ]
  },
  {
   "cell_type": "code",
   "execution_count": null,
   "metadata": {},
   "outputs": [],
   "source": [
    "# read Simulink log file\n",
    "import os\n",
    "import urllib.request\n",
    "\n",
    "if not os.path.exists('reference-results'):\n",
    "    os.mkdir('reference-results')\n",
    "\n",
    "url = 'https://git.rwth-aachen.de/acs/public/simulation/reference-results/raw/master/Simulink/Circuits/SL_VS_RL1.csv'\n",
    "local_file = 'reference-results/SL_VS_RL1.csv'\n",
    "urllib.request.urlretrieve(url, local_file) \n",
    "\n",
    "ts_sl = rt.read_timeseries_simulink(local_file)"
   ]
  },
  {
   "cell_type": "code",
   "execution_count": null,
   "metadata": {},
   "outputs": [],
   "source": [
    "pt.set_timeseries_labels(ts_sl['v1'], 'v1 SL')\n",
    "pt.set_timeseries_labels(ts_sl['v2'], 'v2 SL')\n",
    "pt.set_timeseries_labels(ts_sl['i12'], 'i12 SL')\n",
    "pt.plot_timeseries(1, ts_sl['v1'])\n",
    "pt.plot_timeseries(1, ts_sl['v2'])\n",
    "pt.plot_timeseries(2, ts_sl['i12'])"
   ]
  },
  {
   "cell_type": "markdown",
   "metadata": {},
   "source": [
    "## Comparison"
   ]
  },
  {
   "cell_type": "code",
   "execution_count": null,
   "metadata": {},
   "outputs": [],
   "source": [
    "#v1 = 'v1'\n",
    "#v2 = 'v2'\n",
    "#i12 = 'i12'\n",
    "v1 = 'n1.v'\n",
    "v2 = 'n2.v'\n",
    "i12 = 'r1.i_intf'\n",
    "\n",
    "# plot v1\n",
    "pt.plot_timeseries(1, ts_dpsim_emt['n1.v'])\n",
    "pt.plot_timeseries(1, ts_dpsim_dp_emt['n1.v_shift'])\n",
    "pt.plot_timeseries(1, ts_sl['v1'])\n",
    "# plot v2\n",
    "pt.plot_timeseries(2, ts_dpsim_emt['n2.v'])\n",
    "pt.plot_timeseries(2, ts_dpsim_dp_emt['n2.v_shift'])\n",
    "pt.plot_timeseries(2, ts_sl['v2'])\n",
    "# plot i12\n",
    "pt.plot_timeseries(3, ts_dpsim_emt['r1.i_intf'])\n",
    "pt.plot_timeseries(3, ts_dpsim_dp_emt['r1.i_intf_shift'])\n",
    "ts_sl_scale = ts_sl['i12'].scale(-1)\n",
    "ts_sl_scale.label = '-i12 SL'\n",
    "pt.plot_timeseries(3, ts_sl_scale)"
   ]
  },
  {
   "cell_type": "code",
   "execution_count": null,
   "metadata": {},
   "outputs": [],
   "source": [
    "# calculate the RMSE between Simulink (ts_sl) and EMT (ts_dpsim_emt)\n",
    "err_sl_emt = 0\n",
    "err_sl_emt += ts.rmse(ts_sl['v1'], ts_dpsim_emt['n1.v'])\n",
    "err_sl_emt += ts.rmse(ts_sl['v2'], ts_dpsim_emt['n2.v'])\n",
    "err_sl_emt = err_sl_emt / 2\n",
    "print(\"Total RMSE of Simulink reference and DPsim EMT: %g\" % (err_sl_emt))\n",
    "\n",
    "# calculate the RMSE between Simulink (ts_sl) and DP (ts_dpsim_dp_emt)\n",
    "err_sl_dp = 0\n",
    "err_sl_dp += ts.rmse(ts_sl['v1'], ts_dpsim_dp_emt['n1.v_shift'])\n",
    "err_sl_dp += ts.rmse(ts_sl['v2'], ts_dpsim_dp_emt['n2.v_shift'])\n",
    "err_sl_dp = err_sl_dp / 2\n",
    "print(\"Total RMSE of Simulink reference and DPsim DP: %g\" % (err_sl_dp))"
   ]
  },
  {
   "cell_type": "code",
   "execution_count": null,
   "metadata": {},
   "outputs": [],
   "source": [
    "assert err_sl_emt < 0.1\n",
    "assert err_sl_dp < 0.1"
   ]
  }
 ],
 "metadata": {
  "kernelspec": {
   "display_name": "Python 3 (ipykernel)",
   "language": "python",
   "name": "python3"
  },
  "language_info": {
   "codemirror_mode": {
    "name": "ipython",
    "version": 3
   },
   "file_extension": ".py",
   "mimetype": "text/x-python",
   "name": "python",
   "nbconvert_exporter": "python",
   "pygments_lexer": "ipython3",
   "version": "3.9.10"
  },
  "widgets": {
   "application/vnd.jupyter.widget-state+json": {
    "state": {
     "06980fd6fd154ab7b93736fec54cae84": {
      "model_module": "@jupyter-widgets/controls",
      "model_module_version": "1.4.0",
      "model_name": "FloatProgressModel",
      "state": {
       "layout": "IPY_MODEL_1f8d2087853c4cfeab7af0e674e327a6",
       "max": 0.1,
       "style": "IPY_MODEL_3db3eeb1afd74b528f3f411e66c474c5",
       "value": 0.1
      }
     },
     "07530931ce6b4e508ae35fd45aec973f": {
      "model_module": "@jupyter-widgets/controls",
      "model_module_version": "1.4.0",
      "model_name": "ProgressStyleModel",
      "state": {
       "description_width": ""
      }
     },
     "0d68a841dfeb4bc7a844db3449aca269": {
      "model_module": "@jupyter-widgets/base",
      "model_module_version": "1.1.0",
      "model_name": "LayoutModel",
      "state": {}
     },
     "10c2f0be530d4cf3b33402c3675f20dc": {
      "model_module": "@jupyter-widgets/controls",
      "model_module_version": "1.4.0",
      "model_name": "ProgressStyleModel",
      "state": {
       "description_width": ""
      }
     },
     "16bde7c3b5cf42ee81e9583f1c8a3cb8": {
      "model_module": "@jupyter-widgets/base",
      "model_module_version": "1.1.0",
      "model_name": "LayoutModel",
      "state": {}
     },
     "1c4e336e281d43ffbbbda6b9c60af0da": {
      "model_module": "@jupyter-widgets/base",
      "model_module_version": "1.1.0",
      "model_name": "LayoutModel",
      "state": {}
     },
     "1f8d2087853c4cfeab7af0e674e327a6": {
      "model_module": "@jupyter-widgets/base",
      "model_module_version": "1.1.0",
      "model_name": "LayoutModel",
      "state": {}
     },
     "1f956e3021734cb7961288c2cf02d470": {
      "model_module": "@jupyter-widgets/controls",
      "model_module_version": "1.4.0",
      "model_name": "DescriptionStyleModel",
      "state": {
       "description_width": ""
      }
     },
     "250927952e4840a5a69640c8ac2453ac": {
      "model_module": "@jupyter-widgets/controls",
      "model_module_version": "1.4.0",
      "model_name": "DescriptionStyleModel",
      "state": {
       "description_width": ""
      }
     },
     "26d9138b05f042cc9b78748cb2dbf9e1": {
      "model_module": "@jupyter-widgets/controls",
      "model_module_version": "1.4.0",
      "model_name": "HTMLModel",
      "state": {
       "layout": "IPY_MODEL_eaf785c304f049d4bb5a6496db2f9a00",
       "style": "IPY_MODEL_1f956e3021734cb7961288c2cf02d470",
       "value": "Simulation is finished: <pre>    1000/1000 steps, progress=100% time=0.10, elapsed=0.20, rtfactor=0.49</pre>"
      }
     },
     "28e8b2610a324647a54356f1bce499c0": {
      "model_module": "@jupyter-widgets/controls",
      "model_module_version": "1.4.0",
      "model_name": "ProgressStyleModel",
      "state": {
       "description_width": ""
      }
     },
     "35ef0e37a67f490588070a27724843c3": {
      "model_module": "@jupyter-widgets/controls",
      "model_module_version": "1.4.0",
      "model_name": "FloatProgressModel",
      "state": {
       "layout": "IPY_MODEL_875ccfc140e04a02b7089562b66985a3",
       "max": 0.1,
       "style": "IPY_MODEL_07530931ce6b4e508ae35fd45aec973f",
       "value": 0.1
      }
     },
     "3c49d99b5f804ab986fea869c54348be": {
      "model_module": "@jupyter-widgets/controls",
      "model_module_version": "1.4.0",
      "model_name": "DescriptionStyleModel",
      "state": {
       "description_width": ""
      }
     },
     "3db3eeb1afd74b528f3f411e66c474c5": {
      "model_module": "@jupyter-widgets/controls",
      "model_module_version": "1.4.0",
      "model_name": "ProgressStyleModel",
      "state": {
       "description_width": ""
      }
     },
     "41e9b28a0d384ecc81b7c03d4924a41c": {
      "model_module": "@jupyter-widgets/base",
      "model_module_version": "1.1.0",
      "model_name": "LayoutModel",
      "state": {}
     },
     "420989120cb346c5b80c812c6e252ac2": {
      "model_module": "@jupyter-widgets/controls",
      "model_module_version": "1.4.0",
      "model_name": "FloatProgressModel",
      "state": {
       "layout": "IPY_MODEL_f15db260aef944a98726b429fadcdccb",
       "max": 0.1,
       "style": "IPY_MODEL_6721717252834c728ad77237b55c188c",
       "value": 0.1
      }
     },
     "4bd7665629f64b3a9030643381a4178a": {
      "model_module": "@jupyter-widgets/controls",
      "model_module_version": "1.4.0",
      "model_name": "ProgressStyleModel",
      "state": {
       "description_width": ""
      }
     },
     "5a288718fc524c9dbdceed13d3105609": {
      "model_module": "@jupyter-widgets/controls",
      "model_module_version": "1.4.0",
      "model_name": "HTMLModel",
      "state": {
       "layout": "IPY_MODEL_1c4e336e281d43ffbbbda6b9c60af0da",
       "style": "IPY_MODEL_250927952e4840a5a69640c8ac2453ac",
       "value": "Simulation is finished: <pre>    1000/1000 steps, progress=100% time=0.10, elapsed=0.21, rtfactor=0.49</pre>"
      }
     },
     "5dad58612c4b498da16ea8f1fb406ed0": {
      "model_module": "@jupyter-widgets/controls",
      "model_module_version": "1.4.0",
      "model_name": "FloatProgressModel",
      "state": {
       "layout": "IPY_MODEL_16bde7c3b5cf42ee81e9583f1c8a3cb8",
       "max": 0.1,
       "style": "IPY_MODEL_10c2f0be530d4cf3b33402c3675f20dc",
       "value": 0.1
      }
     },
     "642f74d9cffa47e1a09c60fc31e26da3": {
      "model_module": "@jupyter-widgets/controls",
      "model_module_version": "1.4.0",
      "model_name": "HTMLModel",
      "state": {
       "layout": "IPY_MODEL_6ebc0d903692406da95cfe44dd7b30df",
       "style": "IPY_MODEL_d6d9223331e74763bcacbec863d52a06",
       "value": "Simulation is finished: <pre>    1000/1000 steps, progress=100% time=0.10, elapsed=1.57, rtfactor=0.06</pre>"
      }
     },
     "669f3bd946c74672abcd2218c74f63ac": {
      "model_module": "@jupyter-widgets/controls",
      "model_module_version": "1.4.0",
      "model_name": "DescriptionStyleModel",
      "state": {
       "description_width": ""
      }
     },
     "6721717252834c728ad77237b55c188c": {
      "model_module": "@jupyter-widgets/controls",
      "model_module_version": "1.4.0",
      "model_name": "ProgressStyleModel",
      "state": {
       "description_width": ""
      }
     },
     "6ebc0d903692406da95cfe44dd7b30df": {
      "model_module": "@jupyter-widgets/base",
      "model_module_version": "1.1.0",
      "model_name": "LayoutModel",
      "state": {}
     },
     "795e108ee73440da84c96589dcd15a11": {
      "model_module": "@jupyter-widgets/controls",
      "model_module_version": "1.4.0",
      "model_name": "FloatProgressModel",
      "state": {
       "layout": "IPY_MODEL_dc1c47d15cea403ca709afdef0bc4048",
       "max": 0.1,
       "style": "IPY_MODEL_28e8b2610a324647a54356f1bce499c0",
       "value": 0.1
      }
     },
     "83001a56de174c97aeef9f505267c143": {
      "model_module": "@jupyter-widgets/controls",
      "model_module_version": "1.4.0",
      "model_name": "DescriptionStyleModel",
      "state": {
       "description_width": ""
      }
     },
     "875ccfc140e04a02b7089562b66985a3": {
      "model_module": "@jupyter-widgets/base",
      "model_module_version": "1.1.0",
      "model_name": "LayoutModel",
      "state": {}
     },
     "88ee33b12e3a4688b8b949b180b7f9ab": {
      "model_module": "@jupyter-widgets/base",
      "model_module_version": "1.1.0",
      "model_name": "LayoutModel",
      "state": {}
     },
     "8ced82626f3c4f0fbde8be69c2cd5a01": {
      "model_module": "@jupyter-widgets/controls",
      "model_module_version": "1.4.0",
      "model_name": "DescriptionStyleModel",
      "state": {
       "description_width": ""
      }
     },
     "9c2934087f234e749eb68e6a12637eee": {
      "model_module": "@jupyter-widgets/base",
      "model_module_version": "1.1.0",
      "model_name": "LayoutModel",
      "state": {}
     },
     "9c6af71688f04174873bc1f5219afbfc": {
      "model_module": "@jupyter-widgets/controls",
      "model_module_version": "1.4.0",
      "model_name": "HTMLModel",
      "state": {
       "layout": "IPY_MODEL_41e9b28a0d384ecc81b7c03d4924a41c",
       "style": "IPY_MODEL_8ced82626f3c4f0fbde8be69c2cd5a01",
       "value": "Simulation is finished: <pre>    1000/1000 steps, progress=100% time=0.10, elapsed=0.60, rtfactor=0.17</pre>"
      }
     },
     "b83be6f327294aaa88ec0afcc1669157": {
      "model_module": "@jupyter-widgets/controls",
      "model_module_version": "1.4.0",
      "model_name": "HTMLModel",
      "state": {
       "layout": "IPY_MODEL_0d68a841dfeb4bc7a844db3449aca269",
       "style": "IPY_MODEL_3c49d99b5f804ab986fea869c54348be",
       "value": "Simulation is finished: <pre>    1000/1000 steps, progress=100% time=0.10, elapsed=0.63, rtfactor=0.16</pre>"
      }
     },
     "c2ce78c60c5d47d3a9a3e3652b6f76ac": {
      "model_module": "@jupyter-widgets/base",
      "model_module_version": "1.1.0",
      "model_name": "LayoutModel",
      "state": {}
     },
     "ca27ce29ac76413486f976e95b18ebed": {
      "model_module": "@jupyter-widgets/controls",
      "model_module_version": "1.4.0",
      "model_name": "FloatProgressModel",
      "state": {
       "layout": "IPY_MODEL_9c2934087f234e749eb68e6a12637eee",
       "max": 0.1,
       "style": "IPY_MODEL_4bd7665629f64b3a9030643381a4178a",
       "value": 0.1
      }
     },
     "d3c8fcae71e04e679ce54d3c90071f52": {
      "model_module": "@jupyter-widgets/controls",
      "model_module_version": "1.4.0",
      "model_name": "HTMLModel",
      "state": {
       "layout": "IPY_MODEL_c2ce78c60c5d47d3a9a3e3652b6f76ac",
       "style": "IPY_MODEL_83001a56de174c97aeef9f505267c143",
       "value": "Simulation is finished: <pre>    1000/1000 steps, progress=100% time=0.10, elapsed=1.75, rtfactor=0.06</pre>"
      }
     },
     "d6d9223331e74763bcacbec863d52a06": {
      "model_module": "@jupyter-widgets/controls",
      "model_module_version": "1.4.0",
      "model_name": "DescriptionStyleModel",
      "state": {
       "description_width": ""
      }
     },
     "dc1c47d15cea403ca709afdef0bc4048": {
      "model_module": "@jupyter-widgets/base",
      "model_module_version": "1.1.0",
      "model_name": "LayoutModel",
      "state": {}
     },
     "e55df98ce1144c9496e51bb83c402e7c": {
      "model_module": "@jupyter-widgets/controls",
      "model_module_version": "1.4.0",
      "model_name": "FloatProgressModel",
      "state": {
       "layout": "IPY_MODEL_88ee33b12e3a4688b8b949b180b7f9ab",
       "max": 0.1,
       "style": "IPY_MODEL_e7ac2c8ad8a14948babbb0ac0a4e634a",
       "value": 0.1
      }
     },
     "e7ac2c8ad8a14948babbb0ac0a4e634a": {
      "model_module": "@jupyter-widgets/controls",
      "model_module_version": "1.4.0",
      "model_name": "ProgressStyleModel",
      "state": {
       "description_width": ""
      }
     },
     "eaf785c304f049d4bb5a6496db2f9a00": {
      "model_module": "@jupyter-widgets/base",
      "model_module_version": "1.1.0",
      "model_name": "LayoutModel",
      "state": {}
     },
     "f15db260aef944a98726b429fadcdccb": {
      "model_module": "@jupyter-widgets/base",
      "model_module_version": "1.1.0",
      "model_name": "LayoutModel",
      "state": {}
     },
     "fae981d528524713ad95a232d2e615d4": {
      "model_module": "@jupyter-widgets/base",
      "model_module_version": "1.1.0",
      "model_name": "LayoutModel",
      "state": {}
     },
     "fe318deaec924a6283514fd2e3f20911": {
      "model_module": "@jupyter-widgets/controls",
      "model_module_version": "1.4.0",
      "model_name": "HTMLModel",
      "state": {
       "layout": "IPY_MODEL_fae981d528524713ad95a232d2e615d4",
       "style": "IPY_MODEL_669f3bd946c74672abcd2218c74f63ac",
       "value": "Simulation is finished: <pre>    1000/1000 steps, progress=100% time=0.10, elapsed=0.20, rtfactor=0.49</pre>"
      }
     }
    },
    "version_major": 2,
    "version_minor": 0
   }
  }
 },
 "nbformat": 4,
 "nbformat_minor": 4
}
